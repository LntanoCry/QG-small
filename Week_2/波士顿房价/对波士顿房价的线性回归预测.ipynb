{
 "cells": [
  {
   "cell_type": "markdown",
   "id": "beeecc1d",
   "metadata": {},
   "source": [
    "# 波士顿房价分析可视化及回归预测"
   ]
  },
  {
   "cell_type": "markdown",
   "id": "1968f316",
   "metadata": {},
   "source": [
    "### 文档介绍\n"
   ]
  },
  {
   "cell_type": "markdown",
   "id": "b0af7060",
   "metadata": {},
   "source": [
    "该ipynd文件是利波士顿房价数据集来训练自定义的\"LinearRegression.py\"文件中的多元线性回归模型及数据分析的相关函数"
   ]
  },
  {
   "cell_type": "markdown",
   "id": "25744f45",
   "metadata": {},
   "source": [
    "### 波士顿房价数据集的背景和来源"
   ]
  },
  {
   "cell_type": "markdown",
   "id": "72e1e00b",
   "metadata": {},
   "source": [
    "数据集有以下这些内容"
   ]
  },
  {
   "cell_type": "markdown",
   "id": "834ac90e",
   "metadata": {},
   "source": [
    "- CRIM--城镇人均犯罪率\n",
    "- ZN - 占地面积超过25,000平方英尺的住宅用地比例。\n",
    "- INDUS - 每个城镇非零售业务的比例。\n",
    "- CHAS - Charles River虚拟变量（如果是河道，则为1;否则为0）\n",
    "- NOX - 一氧化氮浓度（每千万份）\n",
    "- RM - 每间住宅的平均房间数\n",
    "- AGE - 1940年以前建造的自住单位比例\n",
    "- DIS - 加权距离波士顿的五个就业中心\n",
    "- RAD - 径向高速公路的可达性指数\n",
    "- TAX - 每10,000美元的全额物业税率\n",
    "- PTRATIO - 城镇的学生与教师比例\n",
    "- B - 1000（Bk - 0.63）^ 2其中Bk是城镇黑人的比例\n",
    "- LSTAT - 人口状况下降％\n",
    "- MEDV - 自有住房的中位数报价, 单位1000美元"
   ]
  },
  {
   "cell_type": "markdown",
   "id": "6b13ede5",
   "metadata": {},
   "source": [
    "## 数据预处理"
   ]
  },
  {
   "cell_type": "markdown",
   "id": "a135b934",
   "metadata": {},
   "source": [
    "### 1.导入数据集"
   ]
  },
  {
   "cell_type": "code",
   "execution_count": 24,
   "id": "1650ef5b",
   "metadata": {},
   "outputs": [],
   "source": [
    "import numpy as np\n",
    "import matplotlib.pyplot as plt\n",
    "import pandas as pd\n",
    "import seaborn as sns\n",
    "\n",
    "\n",
    "raw_data = np.fromfile('.\\housing.data',sep=' ') # 读取用空格分割的data文件\n",
    "title = ['CRIM','ZN','INDUS','CHAS','NOX','RM','AGE','DIS','RAD','TAX','PTRATIO','B','LSTAT','MEDV'] # data文件不带名称栏 \n",
    "columns_number = len(title)\n",
    "    "
   ]
  },
  {
   "cell_type": "markdown",
   "id": "0c24cff7",
   "metadata": {},
   "source": [
    "展示数据集的基本信息"
   ]
  },
  {
   "cell_type": "code",
   "execution_count": 25,
   "id": "08da3589",
   "metadata": {},
   "outputs": [
    {
     "name": "stdout",
     "output_type": "stream",
     "text": [
      "(7084,)\n",
      "506\n"
     ]
    }
   ],
   "source": [
    "print(np.shape(raw_data))\n",
    "print(len(raw_data) // columns_number)"
   ]
  },
  {
   "cell_type": "markdown",
   "id": "de0294c6",
   "metadata": {},
   "source": [
    "### 2.数据格式适应变化"
   ]
  },
  {
   "cell_type": "markdown",
   "id": "c6bc35ff",
   "metadata": {},
   "source": [
    "由于是data文件,由空格分割,所以接下来按规定的不同列来构建一个506*14的二维数组,当然,构建一个DataFrame也可以"
   ]
  },
  {
   "cell_type": "code",
   "execution_count": 26,
   "id": "987f3597",
   "metadata": {},
   "outputs": [],
   "source": [
    "Boston = raw_data.reshape([len(raw_data) // columns_number,columns_number])"
   ]
  },
  {
   "cell_type": "code",
   "execution_count": null,
   "id": "36e45006",
   "metadata": {},
   "outputs": [],
   "source": []
  },
  {
   "cell_type": "markdown",
   "id": "6859dc75",
   "metadata": {},
   "source": [
    "### 3.划分数据集"
   ]
  },
  {
   "cell_type": "code",
   "execution_count": 27,
   "id": "bd6446bf",
   "metadata": {},
   "outputs": [],
   "source": [
    "rate = 0.8 # 设置训练集所占的比例"
   ]
  },
  {
   "cell_type": "code",
   "execution_count": 28,
   "id": "87dad3ff",
   "metadata": {},
   "outputs": [
    {
     "name": "stdout",
     "output_type": "stream",
     "text": [
      "训练集包括目标集的大小为:(404, 14)\n"
     ]
    }
   ],
   "source": [
    "devide_index = int(Boston.shape[0]*rate)\n",
    "Train_data_label = Boston[:devide_index]\n",
    "print(\"训练集包括目标集的大小为:{}\".format(Train_data_label.shape))"
   ]
  },
  {
   "cell_type": "code",
   "execution_count": 29,
   "id": "8733a374",
   "metadata": {},
   "outputs": [
    {
     "data": {
      "text/plain": [
       "1"
      ]
     },
     "execution_count": 29,
     "metadata": {},
     "output_type": "execute_result"
    }
   ],
   "source": [
    "Train_data = Train_data_label[:,0:13] # 真正的训练集,取前13列\n",
    "Train_label = Train_data_label[:,13:14] # 用来训练的目标值\n",
    "Train_label.shape[1]"
   ]
  },
  {
   "cell_type": "code",
   "execution_count": null,
   "id": "b58f8f65",
   "metadata": {},
   "outputs": [],
   "source": []
  },
  {
   "cell_type": "code",
   "execution_count": null,
   "id": "6fcbcb51",
   "metadata": {},
   "outputs": [],
   "source": []
  },
  {
   "cell_type": "markdown",
   "id": "7e42ad74",
   "metadata": {},
   "source": [
    "### 4.数据归一化"
   ]
  },
  {
   "cell_type": "markdown",
   "id": "3a54b9cf",
   "metadata": {},
   "source": [
    "为什么需要进行数据归一化,简而言之,当出现过度拟合时,我们可以有两种方法对他进行处理"
   ]
  },
  {
   "cell_type": "markdown",
   "id": "8592a9fb",
   "metadata": {},
   "source": [
    "- 通过人工选择或模型方法来舍弃一些特征,从而达到降维的效果\n",
    "- 进行归一化处理,保留特征,但降低不同特征参数之间的大小差异"
   ]
  },
  {
   "cell_type": "markdown",
   "id": "510b118c",
   "metadata": {},
   "source": [
    "而进行归一化有着有力的理由:"
   ]
  },
  {
   "cell_type": "markdown",
   "id": "554d287a",
   "metadata": {},
   "source": [
    "![CSDN郝草草的回答](https://s2.loli.net/2022/04/01/hsoLaV8jygmwbeU.png)"
   ]
  },
  {
   "cell_type": "markdown",
   "id": "713b6eb6",
   "metadata": {},
   "source": [
    "下面我们来判断是否要进行过拟合处理"
   ]
  },
  {
   "cell_type": "markdown",
   "id": "a3610acd",
   "metadata": {},
   "source": [
    "=我们可以通过计算各特征值和目标值单独的相关性来达到判断的目的="
   ]
  },
  {
   "cell_type": "code",
   "execution_count": 30,
   "id": "181a763f",
   "metadata": {},
   "outputs": [],
   "source": [
    "Boston_DataFrame = pd.DataFrame(Boston,columns=title)  # 将Boston转换为DataFrame,从而可以使用pandas库的corr函数进行相关性的计算"
   ]
  },
  {
   "cell_type": "markdown",
   "id": "eed201dc",
   "metadata": {},
   "source": [
    "数据基本情况的展示,可以通过肉眼初步判断,但十分不建议这样做!"
   ]
  },
  {
   "cell_type": "code",
   "execution_count": 31,
   "id": "c69ef226",
   "metadata": {},
   "outputs": [
    {
     "data": {
      "text/plain": [
       "<bound method NDFrame.describe of         CRIM    ZN  INDUS  CHAS    NOX     RM   AGE     DIS  RAD    TAX  \\\n",
       "0    0.00632  18.0   2.31   0.0  0.538  6.575  65.2  4.0900  1.0  296.0   \n",
       "1    0.02731   0.0   7.07   0.0  0.469  6.421  78.9  4.9671  2.0  242.0   \n",
       "2    0.02729   0.0   7.07   0.0  0.469  7.185  61.1  4.9671  2.0  242.0   \n",
       "3    0.03237   0.0   2.18   0.0  0.458  6.998  45.8  6.0622  3.0  222.0   \n",
       "4    0.06905   0.0   2.18   0.0  0.458  7.147  54.2  6.0622  3.0  222.0   \n",
       "..       ...   ...    ...   ...    ...    ...   ...     ...  ...    ...   \n",
       "501  0.06263   0.0  11.93   0.0  0.573  6.593  69.1  2.4786  1.0  273.0   \n",
       "502  0.04527   0.0  11.93   0.0  0.573  6.120  76.7  2.2875  1.0  273.0   \n",
       "503  0.06076   0.0  11.93   0.0  0.573  6.976  91.0  2.1675  1.0  273.0   \n",
       "504  0.10959   0.0  11.93   0.0  0.573  6.794  89.3  2.3889  1.0  273.0   \n",
       "505  0.04741   0.0  11.93   0.0  0.573  6.030  80.8  2.5050  1.0  273.0   \n",
       "\n",
       "     PTRATIO       B  LSTAT  MEDV  \n",
       "0       15.3  396.90   4.98  24.0  \n",
       "1       17.8  396.90   9.14  21.6  \n",
       "2       17.8  392.83   4.03  34.7  \n",
       "3       18.7  394.63   2.94  33.4  \n",
       "4       18.7  396.90   5.33  36.2  \n",
       "..       ...     ...    ...   ...  \n",
       "501     21.0  391.99   9.67  22.4  \n",
       "502     21.0  396.90   9.08  20.6  \n",
       "503     21.0  396.90   5.64  23.9  \n",
       "504     21.0  393.45   6.48  22.0  \n",
       "505     21.0  396.90   7.88  11.9  \n",
       "\n",
       "[506 rows x 14 columns]>"
      ]
     },
     "execution_count": 31,
     "metadata": {},
     "output_type": "execute_result"
    }
   ],
   "source": [
    "Boston_DataFrame.describe"
   ]
  },
  {
   "cell_type": "markdown",
   "id": "8d5d213d",
   "metadata": {},
   "source": [
    "下面为各个特征值之间的相关性表"
   ]
  },
  {
   "cell_type": "code",
   "execution_count": 32,
   "id": "15c4ff41",
   "metadata": {},
   "outputs": [
    {
     "data": {
      "text/html": [
       "<div>\n",
       "<style scoped>\n",
       "    .dataframe tbody tr th:only-of-type {\n",
       "        vertical-align: middle;\n",
       "    }\n",
       "\n",
       "    .dataframe tbody tr th {\n",
       "        vertical-align: top;\n",
       "    }\n",
       "\n",
       "    .dataframe thead th {\n",
       "        text-align: right;\n",
       "    }\n",
       "</style>\n",
       "<table border=\"1\" class=\"dataframe\">\n",
       "  <thead>\n",
       "    <tr style=\"text-align: right;\">\n",
       "      <th></th>\n",
       "      <th>CRIM</th>\n",
       "      <th>ZN</th>\n",
       "      <th>INDUS</th>\n",
       "      <th>CHAS</th>\n",
       "      <th>NOX</th>\n",
       "      <th>RM</th>\n",
       "      <th>AGE</th>\n",
       "      <th>DIS</th>\n",
       "      <th>RAD</th>\n",
       "      <th>TAX</th>\n",
       "      <th>PTRATIO</th>\n",
       "      <th>B</th>\n",
       "      <th>LSTAT</th>\n",
       "      <th>MEDV</th>\n",
       "    </tr>\n",
       "  </thead>\n",
       "  <tbody>\n",
       "    <tr>\n",
       "      <th>CRIM</th>\n",
       "      <td>1.000000</td>\n",
       "      <td>-0.200469</td>\n",
       "      <td>0.406583</td>\n",
       "      <td>-0.055892</td>\n",
       "      <td>0.420972</td>\n",
       "      <td>-0.219247</td>\n",
       "      <td>0.352734</td>\n",
       "      <td>-0.379670</td>\n",
       "      <td>0.625505</td>\n",
       "      <td>0.582764</td>\n",
       "      <td>0.289946</td>\n",
       "      <td>-0.385064</td>\n",
       "      <td>0.455621</td>\n",
       "      <td>-0.388305</td>\n",
       "    </tr>\n",
       "    <tr>\n",
       "      <th>ZN</th>\n",
       "      <td>-0.200469</td>\n",
       "      <td>1.000000</td>\n",
       "      <td>-0.533828</td>\n",
       "      <td>-0.042697</td>\n",
       "      <td>-0.516604</td>\n",
       "      <td>0.311991</td>\n",
       "      <td>-0.569537</td>\n",
       "      <td>0.664408</td>\n",
       "      <td>-0.311948</td>\n",
       "      <td>-0.314563</td>\n",
       "      <td>-0.391679</td>\n",
       "      <td>0.175520</td>\n",
       "      <td>-0.412995</td>\n",
       "      <td>0.360445</td>\n",
       "    </tr>\n",
       "    <tr>\n",
       "      <th>INDUS</th>\n",
       "      <td>0.406583</td>\n",
       "      <td>-0.533828</td>\n",
       "      <td>1.000000</td>\n",
       "      <td>0.062938</td>\n",
       "      <td>0.763651</td>\n",
       "      <td>-0.391676</td>\n",
       "      <td>0.644779</td>\n",
       "      <td>-0.708027</td>\n",
       "      <td>0.595129</td>\n",
       "      <td>0.720760</td>\n",
       "      <td>0.383248</td>\n",
       "      <td>-0.356977</td>\n",
       "      <td>0.603800</td>\n",
       "      <td>-0.483725</td>\n",
       "    </tr>\n",
       "    <tr>\n",
       "      <th>CHAS</th>\n",
       "      <td>-0.055892</td>\n",
       "      <td>-0.042697</td>\n",
       "      <td>0.062938</td>\n",
       "      <td>1.000000</td>\n",
       "      <td>0.091203</td>\n",
       "      <td>0.091251</td>\n",
       "      <td>0.086518</td>\n",
       "      <td>-0.099176</td>\n",
       "      <td>-0.007368</td>\n",
       "      <td>-0.035587</td>\n",
       "      <td>-0.121515</td>\n",
       "      <td>0.048788</td>\n",
       "      <td>-0.053929</td>\n",
       "      <td>0.175260</td>\n",
       "    </tr>\n",
       "    <tr>\n",
       "      <th>NOX</th>\n",
       "      <td>0.420972</td>\n",
       "      <td>-0.516604</td>\n",
       "      <td>0.763651</td>\n",
       "      <td>0.091203</td>\n",
       "      <td>1.000000</td>\n",
       "      <td>-0.302188</td>\n",
       "      <td>0.731470</td>\n",
       "      <td>-0.769230</td>\n",
       "      <td>0.611441</td>\n",
       "      <td>0.668023</td>\n",
       "      <td>0.188933</td>\n",
       "      <td>-0.380051</td>\n",
       "      <td>0.590879</td>\n",
       "      <td>-0.427321</td>\n",
       "    </tr>\n",
       "    <tr>\n",
       "      <th>RM</th>\n",
       "      <td>-0.219247</td>\n",
       "      <td>0.311991</td>\n",
       "      <td>-0.391676</td>\n",
       "      <td>0.091251</td>\n",
       "      <td>-0.302188</td>\n",
       "      <td>1.000000</td>\n",
       "      <td>-0.240265</td>\n",
       "      <td>0.205246</td>\n",
       "      <td>-0.209847</td>\n",
       "      <td>-0.292048</td>\n",
       "      <td>-0.355501</td>\n",
       "      <td>0.128069</td>\n",
       "      <td>-0.613808</td>\n",
       "      <td>0.695360</td>\n",
       "    </tr>\n",
       "    <tr>\n",
       "      <th>AGE</th>\n",
       "      <td>0.352734</td>\n",
       "      <td>-0.569537</td>\n",
       "      <td>0.644779</td>\n",
       "      <td>0.086518</td>\n",
       "      <td>0.731470</td>\n",
       "      <td>-0.240265</td>\n",
       "      <td>1.000000</td>\n",
       "      <td>-0.747881</td>\n",
       "      <td>0.456022</td>\n",
       "      <td>0.506456</td>\n",
       "      <td>0.261515</td>\n",
       "      <td>-0.273534</td>\n",
       "      <td>0.602339</td>\n",
       "      <td>-0.376955</td>\n",
       "    </tr>\n",
       "    <tr>\n",
       "      <th>DIS</th>\n",
       "      <td>-0.379670</td>\n",
       "      <td>0.664408</td>\n",
       "      <td>-0.708027</td>\n",
       "      <td>-0.099176</td>\n",
       "      <td>-0.769230</td>\n",
       "      <td>0.205246</td>\n",
       "      <td>-0.747881</td>\n",
       "      <td>1.000000</td>\n",
       "      <td>-0.494588</td>\n",
       "      <td>-0.534432</td>\n",
       "      <td>-0.232471</td>\n",
       "      <td>0.291512</td>\n",
       "      <td>-0.496996</td>\n",
       "      <td>0.249929</td>\n",
       "    </tr>\n",
       "    <tr>\n",
       "      <th>RAD</th>\n",
       "      <td>0.625505</td>\n",
       "      <td>-0.311948</td>\n",
       "      <td>0.595129</td>\n",
       "      <td>-0.007368</td>\n",
       "      <td>0.611441</td>\n",
       "      <td>-0.209847</td>\n",
       "      <td>0.456022</td>\n",
       "      <td>-0.494588</td>\n",
       "      <td>1.000000</td>\n",
       "      <td>0.910228</td>\n",
       "      <td>0.464741</td>\n",
       "      <td>-0.444413</td>\n",
       "      <td>0.488676</td>\n",
       "      <td>-0.381626</td>\n",
       "    </tr>\n",
       "    <tr>\n",
       "      <th>TAX</th>\n",
       "      <td>0.582764</td>\n",
       "      <td>-0.314563</td>\n",
       "      <td>0.720760</td>\n",
       "      <td>-0.035587</td>\n",
       "      <td>0.668023</td>\n",
       "      <td>-0.292048</td>\n",
       "      <td>0.506456</td>\n",
       "      <td>-0.534432</td>\n",
       "      <td>0.910228</td>\n",
       "      <td>1.000000</td>\n",
       "      <td>0.460853</td>\n",
       "      <td>-0.441808</td>\n",
       "      <td>0.543993</td>\n",
       "      <td>-0.468536</td>\n",
       "    </tr>\n",
       "    <tr>\n",
       "      <th>PTRATIO</th>\n",
       "      <td>0.289946</td>\n",
       "      <td>-0.391679</td>\n",
       "      <td>0.383248</td>\n",
       "      <td>-0.121515</td>\n",
       "      <td>0.188933</td>\n",
       "      <td>-0.355501</td>\n",
       "      <td>0.261515</td>\n",
       "      <td>-0.232471</td>\n",
       "      <td>0.464741</td>\n",
       "      <td>0.460853</td>\n",
       "      <td>1.000000</td>\n",
       "      <td>-0.177383</td>\n",
       "      <td>0.374044</td>\n",
       "      <td>-0.507787</td>\n",
       "    </tr>\n",
       "    <tr>\n",
       "      <th>B</th>\n",
       "      <td>-0.385064</td>\n",
       "      <td>0.175520</td>\n",
       "      <td>-0.356977</td>\n",
       "      <td>0.048788</td>\n",
       "      <td>-0.380051</td>\n",
       "      <td>0.128069</td>\n",
       "      <td>-0.273534</td>\n",
       "      <td>0.291512</td>\n",
       "      <td>-0.444413</td>\n",
       "      <td>-0.441808</td>\n",
       "      <td>-0.177383</td>\n",
       "      <td>1.000000</td>\n",
       "      <td>-0.366087</td>\n",
       "      <td>0.333461</td>\n",
       "    </tr>\n",
       "    <tr>\n",
       "      <th>LSTAT</th>\n",
       "      <td>0.455621</td>\n",
       "      <td>-0.412995</td>\n",
       "      <td>0.603800</td>\n",
       "      <td>-0.053929</td>\n",
       "      <td>0.590879</td>\n",
       "      <td>-0.613808</td>\n",
       "      <td>0.602339</td>\n",
       "      <td>-0.496996</td>\n",
       "      <td>0.488676</td>\n",
       "      <td>0.543993</td>\n",
       "      <td>0.374044</td>\n",
       "      <td>-0.366087</td>\n",
       "      <td>1.000000</td>\n",
       "      <td>-0.737663</td>\n",
       "    </tr>\n",
       "    <tr>\n",
       "      <th>MEDV</th>\n",
       "      <td>-0.388305</td>\n",
       "      <td>0.360445</td>\n",
       "      <td>-0.483725</td>\n",
       "      <td>0.175260</td>\n",
       "      <td>-0.427321</td>\n",
       "      <td>0.695360</td>\n",
       "      <td>-0.376955</td>\n",
       "      <td>0.249929</td>\n",
       "      <td>-0.381626</td>\n",
       "      <td>-0.468536</td>\n",
       "      <td>-0.507787</td>\n",
       "      <td>0.333461</td>\n",
       "      <td>-0.737663</td>\n",
       "      <td>1.000000</td>\n",
       "    </tr>\n",
       "  </tbody>\n",
       "</table>\n",
       "</div>"
      ],
      "text/plain": [
       "             CRIM        ZN     INDUS      CHAS       NOX        RM       AGE  \\\n",
       "CRIM     1.000000 -0.200469  0.406583 -0.055892  0.420972 -0.219247  0.352734   \n",
       "ZN      -0.200469  1.000000 -0.533828 -0.042697 -0.516604  0.311991 -0.569537   \n",
       "INDUS    0.406583 -0.533828  1.000000  0.062938  0.763651 -0.391676  0.644779   \n",
       "CHAS    -0.055892 -0.042697  0.062938  1.000000  0.091203  0.091251  0.086518   \n",
       "NOX      0.420972 -0.516604  0.763651  0.091203  1.000000 -0.302188  0.731470   \n",
       "RM      -0.219247  0.311991 -0.391676  0.091251 -0.302188  1.000000 -0.240265   \n",
       "AGE      0.352734 -0.569537  0.644779  0.086518  0.731470 -0.240265  1.000000   \n",
       "DIS     -0.379670  0.664408 -0.708027 -0.099176 -0.769230  0.205246 -0.747881   \n",
       "RAD      0.625505 -0.311948  0.595129 -0.007368  0.611441 -0.209847  0.456022   \n",
       "TAX      0.582764 -0.314563  0.720760 -0.035587  0.668023 -0.292048  0.506456   \n",
       "PTRATIO  0.289946 -0.391679  0.383248 -0.121515  0.188933 -0.355501  0.261515   \n",
       "B       -0.385064  0.175520 -0.356977  0.048788 -0.380051  0.128069 -0.273534   \n",
       "LSTAT    0.455621 -0.412995  0.603800 -0.053929  0.590879 -0.613808  0.602339   \n",
       "MEDV    -0.388305  0.360445 -0.483725  0.175260 -0.427321  0.695360 -0.376955   \n",
       "\n",
       "              DIS       RAD       TAX   PTRATIO         B     LSTAT      MEDV  \n",
       "CRIM    -0.379670  0.625505  0.582764  0.289946 -0.385064  0.455621 -0.388305  \n",
       "ZN       0.664408 -0.311948 -0.314563 -0.391679  0.175520 -0.412995  0.360445  \n",
       "INDUS   -0.708027  0.595129  0.720760  0.383248 -0.356977  0.603800 -0.483725  \n",
       "CHAS    -0.099176 -0.007368 -0.035587 -0.121515  0.048788 -0.053929  0.175260  \n",
       "NOX     -0.769230  0.611441  0.668023  0.188933 -0.380051  0.590879 -0.427321  \n",
       "RM       0.205246 -0.209847 -0.292048 -0.355501  0.128069 -0.613808  0.695360  \n",
       "AGE     -0.747881  0.456022  0.506456  0.261515 -0.273534  0.602339 -0.376955  \n",
       "DIS      1.000000 -0.494588 -0.534432 -0.232471  0.291512 -0.496996  0.249929  \n",
       "RAD     -0.494588  1.000000  0.910228  0.464741 -0.444413  0.488676 -0.381626  \n",
       "TAX     -0.534432  0.910228  1.000000  0.460853 -0.441808  0.543993 -0.468536  \n",
       "PTRATIO -0.232471  0.464741  0.460853  1.000000 -0.177383  0.374044 -0.507787  \n",
       "B        0.291512 -0.444413 -0.441808 -0.177383  1.000000 -0.366087  0.333461  \n",
       "LSTAT   -0.496996  0.488676  0.543993  0.374044 -0.366087  1.000000 -0.737663  \n",
       "MEDV     0.249929 -0.381626 -0.468536 -0.507787  0.333461 -0.737663  1.000000  "
      ]
     },
     "execution_count": 32,
     "metadata": {},
     "output_type": "execute_result"
    }
   ],
   "source": [
    "Boston_DataFrame.corr()  "
   ]
  },
  {
   "cell_type": "markdown",
   "id": "92289f8a",
   "metadata": {},
   "source": [
    "#### 下面进行可视化操作"
   ]
  },
  {
   "cell_type": "code",
   "execution_count": 33,
   "id": "c5db25da",
   "metadata": {},
   "outputs": [
    {
     "name": "stderr",
     "output_type": "stream",
     "text": [
      "D:\\Anaconda\\lib\\site-packages\\matplotlib\\backends\\backend_agg.py:240: RuntimeWarning: Glyph 8722 missing from current font.\n",
      "  font.set_text(s, 0.0, flags=flags)\n",
      "D:\\Anaconda\\lib\\site-packages\\matplotlib\\backends\\backend_agg.py:203: RuntimeWarning: Glyph 8722 missing from current font.\n",
      "  font.set_text(s, 0, flags=flags)\n"
     ]
    },
    {
     "data": {
      "text/plain": [
       "<AxesSubplot:>"
      ]
     },
     "execution_count": 33,
     "metadata": {},
     "output_type": "execute_result"
    },
    {
     "data": {
      "image/png": "[encoded data removed]",
      "text/plain": [
       "<Figure size 1008x1008 with 2 Axes>"
      ]
     },
     "metadata": {
      "needs_background": "light"
     },
     "output_type": "display_data"
    }
   ],
   "source": [
    "plt.figure(figsize=(14,14))\n",
    "sns.heatmap(Boston_DataFrame.corr(),annot=True,cmap=\"coolwarm\")"
   ]
  },
  {
   "cell_type": "markdown",
   "id": "6517cb5a",
   "metadata": {},
   "source": [
    "#### 热力图分析:"
   ]
  },
  {
   "cell_type": "markdown",
   "id": "6910a608",
   "metadata": {},
   "source": [
    "由于corr函数展示的是所有特征值之间的相关性,而我们需要的只是前13个特征值和第14个目标值之间的相关性,所以我们只需要观察最后一列的颜色状况"
   ]
  },
  {
   "cell_type": "markdown",
   "id": "c5fb19d4",
   "metadata": {},
   "source": [
    "从图例可以看出,颜色越接近图例的上方(棕色)和下方(深蓝)表示特征值之间的相关性越高,颜色越浅则表示越不相关"
   ]
  },
  {
   "cell_type": "markdown",
   "id": "6f99c1cc",
   "metadata": {},
   "source": [
    "同时,从数值我们也可以得出,相关性的绝对值大于0.5的仅有三项,分别为\"LSTAT\",\"PTRAPIO\",\"RM\""
   ]
  },
  {
   "cell_type": "markdown",
   "id": "33483542",
   "metadata": {},
   "source": [
    "*总结* :大部分的特征值和房价的相关性并不大,存在过拟合的可能性,需要进行数据处理操作 "
   ]
  },
  {
   "cell_type": "markdown",
   "id": "57969278",
   "metadata": {},
   "source": [
    "**由于有效的特征值并不多,所以可以采用降维的操作,但我选择的是归一化处理,如下:**"
   ]
  },
  {
   "cell_type": "code",
   "execution_count": 34,
   "id": "f3783f63",
   "metadata": {},
   "outputs": [],
   "source": [
    "maximum = Train_data_label.max(axis=0)\n",
    "minimum = Train_data_label.min(axis=0)\n",
    "average = Train_data_label.sum(axis=0) / Train_data.shape[0]\n",
    "# 进行归一化操作\n",
    "for i in range(columns_number):\n",
    "    Boston[:,i] = (Boston[:,i] - average[i])/(maximum[i]-minimum[i])  # 即每一列中的每一个数都减去该列的平均值再除以该列的极差\n",
    "Train_data_label = Boston[:devide_index] # 再设置包括目标值的测试集\n",
    "Test_data_label = Boston[devide_index:]  "
   ]
  },
  {
   "cell_type": "code",
   "execution_count": 35,
   "id": "1a4b6ab1",
   "metadata": {},
   "outputs": [],
   "source": [
    "Train_data = Train_data_label[:,0:13] # 再设置真正的训练集,取前13列\n",
    "Train_label = Train_data_label[:,13:14] # 重置用来训练的目标值\n",
    "Test_data = Test_data_label[:,0:13]\n",
    "Test_label = Test_data_label[:,13:14] "
   ]
  },
  {
   "cell_type": "markdown",
   "id": "9a140fb4",
   "metadata": {},
   "source": [
    "## 调用模型"
   ]
  },
  {
   "cell_type": "markdown",
   "id": "54c177a1",
   "metadata": {},
   "source": [
    "### 1.模型训练"
   ]
  },
  {
   "cell_type": "code",
   "execution_count": 36,
   "id": "e4c2730b",
   "metadata": {},
   "outputs": [],
   "source": [
    "from LinearRegression import *\n",
    "lr = LRegression()"
   ]
  },
  {
   "cell_type": "code",
   "execution_count": 37,
   "id": "081f8f7d",
   "metadata": {},
   "outputs": [
    {
     "data": {
      "text/plain": [
       "LRegression()"
      ]
     },
     "execution_count": 37,
     "metadata": {},
     "output_type": "execute_result"
    }
   ],
   "source": [
    "lr.Fit(Train_data,Train_label)"
   ]
  },
  {
   "cell_type": "code",
   "execution_count": 38,
   "id": "0a37fa54",
   "metadata": {},
   "outputs": [
    {
     "name": "stdout",
     "output_type": "stream",
     "text": [
      "[[-0.3996434 ]\n",
      " [ 0.09806141]\n",
      " [ 0.0294857 ]\n",
      " [ 0.04188318]\n",
      " [-0.16122401]\n",
      " [ 0.55209907]\n",
      " [ 0.00623025]\n",
      " [-0.31775   ]\n",
      " [ 0.23596055]\n",
      " [-0.16545157]\n",
      " [-0.16954098]\n",
      " [-0.01428857]\n",
      " [-0.42865754]]\n",
      "截距:[3.33934269e-16]\n",
      "(13, 1)\n"
     ]
    }
   ],
   "source": [
    "print(\"{}\".format(lr.weight))\n",
    "print(\"截距:{}\".format(lr.intercept))\n",
    "print(lr.weight.shape)"
   ]
  },
  {
   "cell_type": "markdown",
   "id": "55f651e4",
   "metadata": {},
   "source": [
    "### 2.模型预测"
   ]
  },
  {
   "cell_type": "code",
   "execution_count": 39,
   "id": "a0a9bab7",
   "metadata": {},
   "outputs": [],
   "source": [
    "# print(Test_data.shape[0])\n",
    "Test_predict = lr.Predict(Test_data)  # Text_predict即训练后的模型对测试集产生的结果"
   ]
  },
  {
   "cell_type": "markdown",
   "id": "a1d2db64",
   "metadata": {},
   "source": [
    "### 3.误差分析"
   ]
  },
  {
   "cell_type": "markdown",
   "id": "817895cf",
   "metadata": {},
   "source": [
    "毫无疑问,预测值和实际值之间会存在偏差,所以我们引入误差函数这一概念,我们也由此外推出衡量模型好坏的数学方法"
   ]
  },
  {
   "cell_type": "markdown",
   "id": "f7544cb7",
   "metadata": {},
   "source": [
    "#### 利用决定系数来量化模型的表现"
   ]
  },
  {
   "cell_type": "code",
   "execution_count": 40,
   "id": "cbda4c9f",
   "metadata": {},
   "outputs": [],
   "source": [
    "R_2 = lr.score(Test_data,Test_label)"
   ]
  },
  {
   "cell_type": "code",
   "execution_count": 41,
   "id": "61b1ab43",
   "metadata": {},
   "outputs": [
    {
     "name": "stdout",
     "output_type": "stream",
     "text": [
      "-0.21985315040423092\n"
     ]
    }
   ],
   "source": [
    "print(\"{}\".format(R_2))"
   ]
  },
  {
   "cell_type": "markdown",
   "id": "8ac59144",
   "metadata": {},
   "source": [
    "绘图"
   ]
  },
  {
   "cell_type": "code",
   "execution_count": 42,
   "id": "5ec36d1a",
   "metadata": {},
   "outputs": [
    {
     "name": "stdout",
     "output_type": "stream",
     "text": [
      "2 <class 'numpy.ndarray'>\n"
     ]
    },
    {
     "name": "stderr",
     "output_type": "stream",
     "text": [
      "D:\\Anaconda\\lib\\site-packages\\matplotlib\\backends\\backend_agg.py:240: RuntimeWarning: Glyph 8722 missing from current font.\n",
      "  font.set_text(s, 0.0, flags=flags)\n",
      "D:\\Anaconda\\lib\\site-packages\\matplotlib\\backends\\backend_agg.py:203: RuntimeWarning: Glyph 8722 missing from current font.\n",
      "  font.set_text(s, 0, flags=flags)\n"
     ]
    },
    {
     "data": {
      "image/png": "[encoded data removed]",
      "text/plain": [
       "<Figure size 432x288 with 1 Axes>"
      ]
     },
     "metadata": {
      "needs_background": "light"
     },
     "output_type": "display_data"
    }
   ],
   "source": [
    "plt.rc('font',family='SimHei',size=13)\n",
    "plt.figure()\n",
    "X = np.arange(0,len(Test_label))     # 获取X,Y并进行排序\n",
    "res = np.argsort(Test_predict)\n",
    "Y = [Test_label[i] for i in res]\n",
    "Test_predict.sort(axis = 0)\n",
    "print(2,type(Test_predict))\n",
    "plt.scatter(X,Test_label,c='red',s=60,marker='.')\n",
    "plt.plot(X,Test_predict,c='green')\n",
    "plt.title(\"房价预测值和真实值的比较\")\n",
    "plt.xlabel('x轴')\n",
    "plt.ylabel('房价')\n",
    "plt.legend(['真实值','预测值'])\n",
    "plt.show()"
   ]
  },
  {
   "cell_type": "markdown",
   "id": "45fb4953",
   "metadata": {},
   "source": [
    "**误差分析:**"
   ]
  },
  {
   "cell_type": "markdown",
   "id": "2aec1126",
   "metadata": {},
   "source": [
    "从图像可以看出,预测值在前一部分的特征值中偏小而在后一部分中偏大,能大致接近真实值,但并不精准"
   ]
  },
  {
   "cell_type": "markdown",
   "id": "884da281",
   "metadata": {},
   "source": [
    "该模型的决定系数较小,有几种可能的原因:"
   ]
  },
  {
   "cell_type": "markdown",
   "id": "b5e1ed5b",
   "metadata": {},
   "source": [
    "- 模型逻辑有错,算法出了问题(这个本人经过了测试和改写,应该没有问题)\n"
   ]
  },
  {
   "cell_type": "markdown",
   "id": "bcb0b958",
   "metadata": {},
   "source": [
    "- 模型没有问题,但由于训练集的数量太少,不能很好的训练模型,出现了欠拟合的问题"
   ]
  },
  {
   "cell_type": "markdown",
   "id": "0be72926",
   "metadata": {},
   "source": [
    "- 该模型模型本身精度不高(个人认为这一点可性最高)"
   ]
  },
  {
   "cell_type": "markdown",
   "id": "702b5ecf",
   "metadata": {},
   "source": [
    "--但从另一方面来说:--"
   ]
  },
  {
   "cell_type": "markdown",
   "id": "643e372e",
   "metadata": {},
   "source": [
    "由于对目标值,即房价也进行了归一化处理,所以预测出来的目标值始终是在0的附近的,本身就存在误差的问题,所以还有可能是归一化过程不准确"
   ]
  },
  {
   "cell_type": "markdown",
   "id": "ea38864a",
   "metadata": {},
   "source": [
    "**模型改进方法**\n"
   ]
  },
  {
   "cell_type": "markdown",
   "id": "f1eecf3c",
   "metadata": {},
   "source": [
    "可以有以下方法来对模型进行改进:"
   ]
  },
  {
   "cell_type": "markdown",
   "id": "87bd3254",
   "metadata": {},
   "source": [
    "- 改用梯度下降法"
   ]
  },
  {
   "cell_type": "markdown",
   "id": "7811bdb0",
   "metadata": {},
   "source": [
    "- 增加数据数量"
   ]
  },
  {
   "cell_type": "markdown",
   "id": "d87122cf",
   "metadata": {},
   "source": [
    "- 换用合适模型,树等"
   ]
  },
  {
   "cell_type": "code",
   "execution_count": null,
   "id": "caaf5d2d",
   "metadata": {},
   "outputs": [],
   "source": []
  }
 ],
 "metadata": {
  "kernelspec": {
   "display_name": "Python 3 (ipykernel)",
   "language": "python",
   "name": "python3"
  },
  "language_info": {
   "codemirror_mode": {
    "name": "ipython",
    "version": 3
   },
   "file_extension": ".py",
   "mimetype": "text/x-python",
   "name": "python",
   "nbconvert_exporter": "python",
   "pygments_lexer": "ipython3",
   "version": "3.9.7"
  }
 },
 "nbformat": 4,
 "nbformat_minor": 5
}
